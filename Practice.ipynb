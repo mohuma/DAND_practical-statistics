{
 "cells": [
  {
   "cell_type": "code",
   "execution_count": 1,
   "id": "61f957cd",
   "metadata": {},
   "outputs": [],
   "source": [
    "import numpy as np"
   ]
  },
  {
   "cell_type": "code",
   "execution_count": 2,
   "id": "a9c269a2",
   "metadata": {},
   "outputs": [
    {
     "data": {
      "text/plain": [
       "1"
      ]
     },
     "execution_count": 2,
     "metadata": {},
     "output_type": "execute_result"
    }
   ],
   "source": [
    "np.random.randint(2)"
   ]
  },
  {
   "cell_type": "code",
   "execution_count": 3,
   "id": "e5544e5d",
   "metadata": {},
   "outputs": [
    {
     "data": {
      "text/plain": [
       "array([1, 1, 0, ..., 0, 0, 1])"
      ]
     },
     "execution_count": 3,
     "metadata": {},
     "output_type": "execute_result"
    }
   ],
   "source": [
    "np.random.randint(2, size=10000)"
   ]
  },
  {
   "cell_type": "code",
   "execution_count": 9,
   "id": "14a61452",
   "metadata": {},
   "outputs": [
    {
     "data": {
      "text/plain": [
       "0.4901"
      ]
     },
     "execution_count": 9,
     "metadata": {},
     "output_type": "execute_result"
    }
   ],
   "source": [
    "np.random.randint(2, size=10000).mean()"
   ]
  },
  {
   "cell_type": "code",
   "execution_count": 4,
   "id": "057f9ec7",
   "metadata": {},
   "outputs": [
    {
     "data": {
      "text/plain": [
       "1"
      ]
     },
     "execution_count": 4,
     "metadata": {},
     "output_type": "execute_result"
    }
   ],
   "source": [
    "np.random.choice([0,1])"
   ]
  },
  {
   "cell_type": "code",
   "execution_count": 5,
   "id": "02ead1c2",
   "metadata": {},
   "outputs": [
    {
     "data": {
      "text/plain": [
       "array([1, 0, 1, ..., 0, 1, 0])"
      ]
     },
     "execution_count": 5,
     "metadata": {},
     "output_type": "execute_result"
    }
   ],
   "source": [
    "np.random.choice([0,1], size=10000)"
   ]
  },
  {
   "cell_type": "code",
   "execution_count": 6,
   "id": "19f4542f",
   "metadata": {},
   "outputs": [
    {
     "data": {
      "text/plain": [
       "0.5074"
      ]
     },
     "execution_count": 6,
     "metadata": {},
     "output_type": "execute_result"
    }
   ],
   "source": [
    "np.random.choice([0,1], size=10000).mean()"
   ]
  },
  {
   "cell_type": "code",
   "execution_count": 7,
   "id": "69db130a",
   "metadata": {},
   "outputs": [
    {
     "data": {
      "text/plain": [
       "array([1, 0, 0, ..., 0, 0, 0])"
      ]
     },
     "execution_count": 7,
     "metadata": {},
     "output_type": "execute_result"
    }
   ],
   "source": [
    "np.random.choice([0,1], size=10000, p=[0.8, 0.2])"
   ]
  },
  {
   "cell_type": "code",
   "execution_count": 8,
   "id": "7d609acf",
   "metadata": {},
   "outputs": [
    {
     "data": {
      "text/plain": [
       "0.1997"
      ]
     },
     "execution_count": 8,
     "metadata": {},
     "output_type": "execute_result"
    }
   ],
   "source": [
    "np.random.choice([0,1], size=10000, p=[0.8, 0.2]).mean()"
   ]
  },
  {
   "cell_type": "code",
   "execution_count": 18,
   "id": "03fbc14c",
   "metadata": {},
   "outputs": [
    {
     "data": {
      "text/plain": [
       "array([[0, 0],\n",
       "       [1, 1],\n",
       "       [1, 0],\n",
       "       ...,\n",
       "       [0, 0],\n",
       "       [1, 0],\n",
       "       [1, 1]])"
      ]
     },
     "execution_count": 18,
     "metadata": {},
     "output_type": "execute_result"
    }
   ],
   "source": [
    "tests = np.random.randint(2, size=(10000, 2))\n",
    "tests"
   ]
  },
  {
   "cell_type": "code",
   "execution_count": 19,
   "id": "3f361a5f",
   "metadata": {},
   "outputs": [
    {
     "data": {
      "text/plain": [
       "array([0, 2, 1, ..., 0, 1, 2])"
      ]
     },
     "execution_count": 19,
     "metadata": {},
     "output_type": "execute_result"
    }
   ],
   "source": [
    "sum_tests = tests.sum(axis=1)\n",
    "sum_tests"
   ]
  },
  {
   "cell_type": "code",
   "execution_count": 20,
   "id": "430ffb24",
   "metadata": {},
   "outputs": [
    {
     "data": {
      "text/plain": [
       "0.2539"
      ]
     },
     "execution_count": 20,
     "metadata": {},
     "output_type": "execute_result"
    }
   ],
   "source": [
    "(sum_tests == 0).mean()"
   ]
  },
  {
   "cell_type": "code",
   "execution_count": 21,
   "id": "ead25ad0",
   "metadata": {},
   "outputs": [
    {
     "data": {
      "text/plain": [
       "0.250074"
      ]
     },
     "execution_count": 21,
     "metadata": {},
     "output_type": "execute_result"
    }
   ],
   "source": [
    "# simulate 1 million tests of two fair coin flips\n",
    "tests = np.random.randint(2, size=(int(1e6), 2))\n",
    "\n",
    "# sums of all tests\n",
    "test_sums = tests.sum(axis=1)\n",
    "\n",
    "# proportion of tests that produced exactly two heads\n",
    "(test_sums == 0).mean()"
   ]
  },
  {
   "cell_type": "code",
   "execution_count": 22,
   "id": "124575eb",
   "metadata": {},
   "outputs": [
    {
     "data": {
      "text/plain": [
       "0.375079"
      ]
     },
     "execution_count": 22,
     "metadata": {},
     "output_type": "execute_result"
    }
   ],
   "source": [
    "# simulate 1 million tests of three fair coin flips\n",
    "tests = np.random.randint(2, size=(int(1e6), 3))\n",
    "\n",
    "# sums of all tests\n",
    "test_sums = tests.sum(axis=1)\n",
    "\n",
    "# proportion of tests that produced exactly one head\n",
    "(test_sums == 2).mean()"
   ]
  },
  {
   "cell_type": "code",
   "execution_count": 23,
   "id": "32802b47",
   "metadata": {},
   "outputs": [
    {
     "data": {
      "text/plain": [
       "0.288347"
      ]
     },
     "execution_count": 23,
     "metadata": {},
     "output_type": "execute_result"
    }
   ],
   "source": [
    "# simulate 1 million tests of three biased coin flips\n",
    "# hint: use np.random.choice()\n",
    "tests = np.random.choice([0,1], size=(int(1e6), 3), p=[0.6, 0.4])\n",
    "\n",
    "# sums of all tests\n",
    "test_sums = tests.sum(axis=1)\n",
    "\n",
    "# proportion of tests that produced exactly one head\n",
    "(test_sums == 2).mean()"
   ]
  },
  {
   "cell_type": "code",
   "execution_count": 30,
   "id": "8311e78b",
   "metadata": {},
   "outputs": [
    {
     "data": {
      "text/plain": [
       "0.499845"
      ]
     },
     "execution_count": 30,
     "metadata": {},
     "output_type": "execute_result"
    }
   ],
   "source": [
    "# simulate 1 million tests of one die roll\n",
    "tests = np.random.randint(1,7, size=(int(1e6)))\n",
    "\n",
    "# proportion of tests that produced an even number\n",
    "np.isin(tests,[2,4,6]).mean()\n"
   ]
  },
  {
   "cell_type": "code",
   "execution_count": 31,
   "id": "a3b6c392",
   "metadata": {},
   "outputs": [
    {
     "data": {
      "text/plain": [
       "0.166772"
      ]
     },
     "execution_count": 31,
     "metadata": {},
     "output_type": "execute_result"
    }
   ],
   "source": [
    "# simulate the first million die rolls\n",
    "first = np.random.randint(1,7, size=(int(1e6)))\n",
    "\n",
    "# simulate the second million die rolls\n",
    "second = np.random.randint(1,7, size=(int(1e6)))\n",
    "\n",
    "# proportion of tests where the 1st and 2nd die rolled the same number\n",
    "(first == second).mean()"
   ]
  },
  {
   "cell_type": "code",
   "execution_count": 32,
   "id": "d99d8b85",
   "metadata": {},
   "outputs": [
    {
     "data": {
      "text/plain": [
       "4"
      ]
     },
     "execution_count": 32,
     "metadata": {},
     "output_type": "execute_result"
    }
   ],
   "source": [
    "# number of heads from 10 fair coin flips\n",
    "np.random.binomial(10, 0.5)"
   ]
  },
  {
   "cell_type": "code",
   "execution_count": 33,
   "id": "0e3cbcf4",
   "metadata": {},
   "outputs": [
    {
     "data": {
      "text/plain": [
       "array([7, 3, 4, 5, 6, 6, 6, 6, 3, 7, 7, 7, 4, 7, 4, 7, 7, 7, 4, 6])"
      ]
     },
     "execution_count": 33,
     "metadata": {},
     "output_type": "execute_result"
    }
   ],
   "source": [
    "# results from 20 tests with 10 coin flips\n",
    "np.random.binomial(10, 0.5, 20)"
   ]
  },
  {
   "cell_type": "code",
   "execution_count": 34,
   "id": "096ae53a",
   "metadata": {},
   "outputs": [
    {
     "data": {
      "text/plain": [
       "5.15"
      ]
     },
     "execution_count": 34,
     "metadata": {},
     "output_type": "execute_result"
    }
   ],
   "source": [
    "# mean number of heads from the 20 tests\n",
    "np.random.binomial(10, 0.5, 20).mean()"
   ]
  },
  {
   "cell_type": "code",
   "execution_count": 35,
   "id": "10ef6fe0",
   "metadata": {},
   "outputs": [
    {
     "data": {
      "text/plain": [
       "5.000458"
      ]
     },
     "execution_count": 35,
     "metadata": {},
     "output_type": "execute_result"
    }
   ],
   "source": [
    "# reflects the fairness of the coin more closely as # tests increases\n",
    "np.random.binomial(10, 0.5, 1000000).mean()"
   ]
  },
  {
   "cell_type": "code",
   "execution_count": 38,
   "id": "10c540f7",
   "metadata": {},
   "outputs": [],
   "source": [
    "import matplotlib.pyplot as plt\n",
    "%matplotlib inline"
   ]
  },
  {
   "cell_type": "code",
   "execution_count": 39,
   "id": "f5c20411",
   "metadata": {},
   "outputs": [
    {
     "data": {
      "image/png": "[encoded data removed]",
      "text/plain": [
       "<Figure size 432x288 with 1 Axes>"
      ]
     },
     "metadata": {
      "needs_background": "light"
     },
     "output_type": "display_data"
    }
   ],
   "source": [
    "plt.hist(np.random.binomial(10, 0.5, 1000000));"
   ]
  },
  {
   "cell_type": "code",
   "execution_count": 40,
   "id": "94a5be8c",
   "metadata": {},
   "outputs": [
    {
     "data": {
      "image/png": "[encoded data removed]",
      "text/plain": [
       "<Figure size 432x288 with 1 Axes>"
      ]
     },
     "metadata": {
      "needs_background": "light"
     },
     "output_type": "display_data"
    }
   ],
   "source": [
    "# gets more narrow as number of flips increase per test\n",
    "plt.hist(np.random.binomial(100, 0.5, 1000000));"
   ]
  },
  {
   "cell_type": "code",
   "execution_count": 41,
   "id": "e51ec2fe",
   "metadata": {},
   "outputs": [
    {
     "data": {
      "text/plain": [
       "0.500403"
      ]
     },
     "execution_count": 41,
     "metadata": {},
     "output_type": "execute_result"
    }
   ],
   "source": [
    "# simulate 1 million tests of one fair coin flip\n",
    "# remember, the output of these tests are the # successes, or # heads\n",
    "tests = np.random.binomial(1, 0.5, int(1e6))\n",
    "\n",
    "# proportion of tests that produced heads\n",
    "(tests == 1).mean()"
   ]
  },
  {
   "cell_type": "code",
   "execution_count": 43,
   "id": "64265328",
   "metadata": {},
   "outputs": [
    {
     "data": {
      "text/plain": [
       "0.155122"
      ]
     },
     "execution_count": 43,
     "metadata": {},
     "output_type": "execute_result"
    }
   ],
   "source": [
    "# simulate 1 million tests of five fair coin flips\n",
    "tests = np.random.binomial(5, 0.5, int(1e6))\n",
    "\n",
    "# proportion of tests that produced 1 head\n",
    "(tests == 1).mean()"
   ]
  },
  {
   "cell_type": "code",
   "execution_count": 44,
   "id": "42fd4f35",
   "metadata": {},
   "outputs": [
    {
     "data": {
      "text/plain": [
       "0.204565"
      ]
     },
     "execution_count": 44,
     "metadata": {},
     "output_type": "execute_result"
    }
   ],
   "source": [
    "# simulate 1 million tests of ten fair coin flips\n",
    "tests = np.random.binomial(10, 0.5, int(1e6))\n",
    "\n",
    "# proportion of tests that produced 4 heads\n",
    "(tests == 4).mean()"
   ]
  },
  {
   "cell_type": "code",
   "execution_count": 45,
   "id": "f07731ef",
   "metadata": {},
   "outputs": [
    {
     "data": {
      "text/plain": [
       "0.327792"
      ]
     },
     "execution_count": 45,
     "metadata": {},
     "output_type": "execute_result"
    }
   ],
   "source": [
    "# simulate 1 million tests of five biased coin flips\n",
    "tests = np.random.binomial(5, 0.8, int(1e6))\n",
    "\n",
    "# proportion of tests that produced 5 heads\n",
    "(tests == 5).mean()"
   ]
  },
  {
   "cell_type": "code",
   "execution_count": 47,
   "id": "6f97ed59",
   "metadata": {},
   "outputs": [
    {
     "data": {
      "text/plain": [
       "0.179853"
      ]
     },
     "execution_count": 47,
     "metadata": {},
     "output_type": "execute_result"
    }
   ],
   "source": [
    "# simulate 1 million tests of ten biased coin flips\n",
    "tests = np.random.binomial(10, 0.15, int(1e6))\n",
    "\n",
    "# proportion of tests that produced at least 3 heads\n",
    "(tests >= 3).mean()"
   ]
  },
  {
   "cell_type": "code",
   "execution_count": 1,
   "id": "cd3abc38",
   "metadata": {},
   "outputs": [],
   "source": [
    "import numpy as np\n",
    "np.random.seed(42)\n",
    "\n",
    "students = np.array([1,0,1,1,1,1,0,0,0,0,1,1,1,1,1,1,1,1,1,1,0])"
   ]
  },
  {
   "cell_type": "code",
   "execution_count": 6,
   "id": "bd4ffa1c",
   "metadata": {},
   "outputs": [
    {
     "data": {
      "text/plain": [
       "0.7142857142857143"
      ]
     },
     "execution_count": 6,
     "metadata": {},
     "output_type": "execute_result"
    }
   ],
   "source": [
    "# 1. Find the proportion of students who drink coffee in the above array. Store this value in a variable p.\n",
    "p=students.mean()\n",
    "p"
   ]
  },
  {
   "cell_type": "code",
   "execution_count": 7,
   "id": "3d861a0e",
   "metadata": {},
   "outputs": [
    {
     "data": {
      "text/plain": [
       "0.6"
      ]
     },
     "execution_count": 7,
     "metadata": {},
     "output_type": "execute_result"
    }
   ],
   "source": [
    "#  2. Use numpy's random.choice to simulate 5 draws from the students array. What is proportion of your sample drink coffee?\n",
    "sample1=np.random.choice(students, 5)\n",
    "sample1_p=sample1.mean()\n",
    "sample1_p"
   ]
  },
  {
   "cell_type": "code",
   "execution_count": 8,
   "id": "cfe7a2c2",
   "metadata": {},
   "outputs": [
    {
     "data": {
      "text/plain": [
       "[0.4,\n",
       " 0.4,\n",
       " 0.8,\n",
       " 1.0,\n",
       " 0.8,\n",
       " 0.4,\n",
       " 0.4,\n",
       " 0.6,\n",
       " 1.0,\n",
       " 0.6,\n",
       " 0.6,\n",
       " 0.8,\n",
       " 0.4,\n",
       " 0.8,\n",
       " 0.6,\n",
       " 0.6,\n",
       " 0.8,\n",
       " 0.4,\n",
       " 0.2,\n",
       " 1.0,\n",
       " 0.8,\n",
       " 1.0,\n",
       " 0.6,\n",
       " 0.6,\n",
       " 0.8,\n",
       " 0.8,\n",
       " 0.4,\n",
       " 1.0,\n",
       " 0.8,\n",
       " 0.4,\n",
       " 0.6,\n",
       " 0.8,\n",
       " 0.6,\n",
       " 1.0,\n",
       " 0.6,\n",
       " 0.6,\n",
       " 1.0,\n",
       " 0.8,\n",
       " 0.8,\n",
       " 1.0,\n",
       " 0.8,\n",
       " 0.4,\n",
       " 0.6,\n",
       " 0.8,\n",
       " 0.8,\n",
       " 0.6,\n",
       " 1.0,\n",
       " 0.8,\n",
       " 0.8,\n",
       " 1.0,\n",
       " 0.6,\n",
       " 0.8,\n",
       " 0.6,\n",
       " 1.0,\n",
       " 1.0,\n",
       " 0.4,\n",
       " 1.0,\n",
       " 1.0,\n",
       " 0.6,\n",
       " 0.8,\n",
       " 0.8,\n",
       " 0.6,\n",
       " 0.4,\n",
       " 0.6,\n",
       " 0.6,\n",
       " 0.8,\n",
       " 0.8,\n",
       " 0.6,\n",
       " 0.8,\n",
       " 0.6,\n",
       " 0.8,\n",
       " 1.0,\n",
       " 0.8,\n",
       " 0.8,\n",
       " 0.4,\n",
       " 0.6,\n",
       " 0.6,\n",
       " 1.0,\n",
       " 1.0,\n",
       " 1.0,\n",
       " 0.6,\n",
       " 0.6,\n",
       " 0.8,\n",
       " 0.8,\n",
       " 1.0,\n",
       " 1.0,\n",
       " 0.8,\n",
       " 0.8,\n",
       " 0.8,\n",
       " 0.4,\n",
       " 0.4,\n",
       " 0.8,\n",
       " 0.6,\n",
       " 1.0,\n",
       " 0.8,\n",
       " 0.8,\n",
       " 1.0,\n",
       " 0.6,\n",
       " 0.8,\n",
       " 0.8,\n",
       " 0.6,\n",
       " 0.2,\n",
       " 1.0,\n",
       " 0.6,\n",
       " 0.8,\n",
       " 0.4,\n",
       " 0.8,\n",
       " 0.8,\n",
       " 0.8,\n",
       " 0.6,\n",
       " 0.8,\n",
       " 0.4,\n",
       " 1.0,\n",
       " 0.8,\n",
       " 0.6,\n",
       " 1.0,\n",
       " 0.8,\n",
       " 0.8,\n",
       " 0.8,\n",
       " 0.4,\n",
       " 0.6,\n",
       " 0.6,\n",
       " 1.0,\n",
       " 1.0,\n",
       " 0.6,\n",
       " 1.0,\n",
       " 0.8,\n",
       " 0.6,\n",
       " 0.8,\n",
       " 0.8,\n",
       " 0.4,\n",
       " 0.6,\n",
       " 1.0,\n",
       " 0.4,\n",
       " 0.6,\n",
       " 1.0,\n",
       " 0.8,\n",
       " 0.6,\n",
       " 0.6,\n",
       " 0.8,\n",
       " 0.8,\n",
       " 0.6,\n",
       " 0.8,\n",
       " 0.6,\n",
       " 1.0,\n",
       " 0.6,\n",
       " 1.0,\n",
       " 0.6,\n",
       " 0.6,\n",
       " 0.8,\n",
       " 0.8,\n",
       " 0.8,\n",
       " 1.0,\n",
       " 0.8,\n",
       " 0.8,\n",
       " 1.0,\n",
       " 0.8,\n",
       " 0.6,\n",
       " 0.8,\n",
       " 0.8,\n",
       " 0.4,\n",
       " 0.6,\n",
       " 0.8,\n",
       " 0.6,\n",
       " 1.0,\n",
       " 0.6,\n",
       " 0.8,\n",
       " 1.0,\n",
       " 0.6,\n",
       " 1.0,\n",
       " 1.0,\n",
       " 1.0,\n",
       " 1.0,\n",
       " 1.0,\n",
       " 0.4,\n",
       " 0.6,\n",
       " 0.6,\n",
       " 1.0,\n",
       " 0.8,\n",
       " 0.6,\n",
       " 0.4,\n",
       " 0.8,\n",
       " 1.0,\n",
       " 0.2,\n",
       " 0.8,\n",
       " 1.0,\n",
       " 0.2,\n",
       " 0.8,\n",
       " 0.4,\n",
       " 1.0,\n",
       " 0.8,\n",
       " 0.6,\n",
       " 0.8,\n",
       " 0.8,\n",
       " 1.0,\n",
       " 0.8,\n",
       " 0.8,\n",
       " 0.6,\n",
       " 0.8,\n",
       " 0.8,\n",
       " 1.0,\n",
       " 0.6,\n",
       " 0.4,\n",
       " 0.8,\n",
       " 0.8,\n",
       " 0.4,\n",
       " 0.2,\n",
       " 0.8,\n",
       " 0.6,\n",
       " 0.8,\n",
       " 0.8,\n",
       " 0.6,\n",
       " 0.6,\n",
       " 0.8,\n",
       " 0.8,\n",
       " 1.0,\n",
       " 0.8,\n",
       " 0.6,\n",
       " 0.6,\n",
       " 0.4,\n",
       " 0.8,\n",
       " 0.8,\n",
       " 0.8,\n",
       " 0.8,\n",
       " 0.6,\n",
       " 0.6,\n",
       " 0.8,\n",
       " 0.8,\n",
       " 0.8,\n",
       " 0.4,\n",
       " 1.0,\n",
       " 0.8,\n",
       " 0.4,\n",
       " 0.6,\n",
       " 0.8,\n",
       " 0.6,\n",
       " 0.6,\n",
       " 0.4,\n",
       " 0.6,\n",
       " 0.4,\n",
       " 0.6,\n",
       " 0.6,\n",
       " 0.8,\n",
       " 0.4,\n",
       " 1.0,\n",
       " 1.0,\n",
       " 0.4,\n",
       " 0.2,\n",
       " 0.4,\n",
       " 1.0,\n",
       " 0.8,\n",
       " 1.0,\n",
       " 0.8,\n",
       " 0.6,\n",
       " 0.8,\n",
       " 0.6,\n",
       " 0.4,\n",
       " 0.4,\n",
       " 0.8,\n",
       " 0.6,\n",
       " 0.8,\n",
       " 0.8,\n",
       " 0.6,\n",
       " 1.0,\n",
       " 0.6,\n",
       " 0.6,\n",
       " 0.8,\n",
       " 0.8,\n",
       " 0.6,\n",
       " 1.0,\n",
       " 1.0,\n",
       " 0.6,\n",
       " 1.0,\n",
       " 0.8,\n",
       " 0.6,\n",
       " 0.6,\n",
       " 0.4,\n",
       " 1.0,\n",
       " 0.8,\n",
       " 0.8,\n",
       " 1.0,\n",
       " 0.8,\n",
       " 0.4,\n",
       " 0.4,\n",
       " 0.6,\n",
       " 0.8,\n",
       " 1.0,\n",
       " 0.8,\n",
       " 0.6,\n",
       " 0.8,\n",
       " 0.8,\n",
       " 0.6,\n",
       " 0.6,\n",
       " 0.6,\n",
       " 0.6,\n",
       " 0.6,\n",
       " 0.6,\n",
       " 0.6,\n",
       " 0.6,\n",
       " 0.6,\n",
       " 1.0,\n",
       " 0.8,\n",
       " 1.0,\n",
       " 0.8,\n",
       " 1.0,\n",
       " 0.6,\n",
       " 0.6,\n",
       " 0.8,\n",
       " 1.0,\n",
       " 0.8,\n",
       " 1.0,\n",
       " 0.8,\n",
       " 1.0,\n",
       " 0.6,\n",
       " 0.8,\n",
       " 0.6,\n",
       " 0.8,\n",
       " 0.8,\n",
       " 0.4,\n",
       " 0.6,\n",
       " 0.8,\n",
       " 1.0,\n",
       " 0.4,\n",
       " 1.0,\n",
       " 0.6,\n",
       " 0.6,\n",
       " 0.8,\n",
       " 0.6,\n",
       " 0.6,\n",
       " 0.6,\n",
       " 0.4,\n",
       " 0.6,\n",
       " 0.8,\n",
       " 0.6,\n",
       " 1.0,\n",
       " 1.0,\n",
       " 0.6,\n",
       " 1.0,\n",
       " 0.6,\n",
       " 0.8,\n",
       " 0.8,\n",
       " 1.0,\n",
       " 0.4,\n",
       " 0.6,\n",
       " 0.6,\n",
       " 0.6,\n",
       " 0.8,\n",
       " 0.8,\n",
       " 0.8,\n",
       " 0.6,\n",
       " 0.4,\n",
       " 0.8,\n",
       " 1.0,\n",
       " 0.6,\n",
       " 0.6,\n",
       " 0.8,\n",
       " 1.0,\n",
       " 1.0,\n",
       " 1.0,\n",
       " 0.6,\n",
       " 1.0,\n",
       " 0.8,\n",
       " 0.6,\n",
       " 0.6,\n",
       " 1.0,\n",
       " 1.0,\n",
       " 0.4,\n",
       " 0.8,\n",
       " 0.6,\n",
       " 0.6,\n",
       " 0.8,\n",
       " 1.0,\n",
       " 0.4,\n",
       " 0.6,\n",
       " 0.6,\n",
       " 0.6,\n",
       " 1.0,\n",
       " 0.6,\n",
       " 0.6,\n",
       " 0.8,\n",
       " 0.8,\n",
       " 1.0,\n",
       " 0.4,\n",
       " 0.4,\n",
       " 0.6,\n",
       " 0.8,\n",
       " 1.0,\n",
       " 1.0,\n",
       " 0.8,\n",
       " 0.8,\n",
       " 0.8,\n",
       " 0.6,\n",
       " 0.8,\n",
       " 0.6,\n",
       " 0.8,\n",
       " 0.4,\n",
       " 0.6,\n",
       " 0.8,\n",
       " 0.4,\n",
       " 0.2,\n",
       " 1.0,\n",
       " 0.6,\n",
       " 0.8,\n",
       " 1.0,\n",
       " 0.6,\n",
       " 0.8,\n",
       " 0.4,\n",
       " 0.6,\n",
       " 0.4,\n",
       " 0.8,\n",
       " 0.6,\n",
       " 0.8,\n",
       " 0.4,\n",
       " 0.6,\n",
       " 0.6,\n",
       " 0.8,\n",
       " 0.6,\n",
       " 0.6,\n",
       " 1.0,\n",
       " 0.8,\n",
       " 0.8,\n",
       " 0.8,\n",
       " 0.6,\n",
       " 0.6,\n",
       " 0.8,\n",
       " 0.8,\n",
       " 0.4,\n",
       " 0.6,\n",
       " 1.0,\n",
       " 0.8,\n",
       " 0.8,\n",
       " 0.8,\n",
       " 0.8,\n",
       " 0.6,\n",
       " 0.6,\n",
       " 0.6,\n",
       " 1.0,\n",
       " 0.8,\n",
       " 0.4,\n",
       " 0.6,\n",
       " 1.0,\n",
       " 0.8,\n",
       " 0.6,\n",
       " 0.6,\n",
       " 0.4,\n",
       " 0.8,\n",
       " 0.6,\n",
       " 0.8,\n",
       " 0.8,\n",
       " 0.6,\n",
       " 0.6,\n",
       " 0.4,\n",
       " 0.8,\n",
       " 0.6,\n",
       " 1.0,\n",
       " 0.4,\n",
       " 0.8,\n",
       " 0.4,\n",
       " 0.6,\n",
       " 0.4,\n",
       " 0.4,\n",
       " 0.4,\n",
       " 1.0,\n",
       " 0.8,\n",
       " 0.8,\n",
       " 0.8,\n",
       " 0.8,\n",
       " 0.8,\n",
       " 0.6,\n",
       " 0.8,\n",
       " 0.4,\n",
       " 1.0,\n",
       " 0.2,\n",
       " 0.6,\n",
       " 0.4,\n",
       " 0.6,\n",
       " 0.8,\n",
       " 0.8,\n",
       " 0.6,\n",
       " 0.6,\n",
       " 0.4,\n",
       " 0.8,\n",
       " 0.6,\n",
       " 1.0,\n",
       " 1.0,\n",
       " 0.8,\n",
       " 0.4,\n",
       " 1.0,\n",
       " 0.4,\n",
       " 0.2,\n",
       " 0.6,\n",
       " 0.8,\n",
       " 0.6,\n",
       " 1.0,\n",
       " 0.8,\n",
       " 0.6,\n",
       " 0.4,\n",
       " 0.8,\n",
       " 1.0,\n",
       " 0.8,\n",
       " 1.0,\n",
       " 0.8,\n",
       " 1.0,\n",
       " 1.0,\n",
       " 1.0,\n",
       " 1.0,\n",
       " 0.6,\n",
       " 0.8,\n",
       " 1.0,\n",
       " 0.8,\n",
       " 0.8,\n",
       " 0.8,\n",
       " 0.8,\n",
       " 0.6,\n",
       " 0.8,\n",
       " 0.6,\n",
       " 0.6,\n",
       " 0.8,\n",
       " 0.8,\n",
       " 0.8,\n",
       " 0.8,\n",
       " 0.8,\n",
       " 0.6,\n",
       " 0.8,\n",
       " 0.8,\n",
       " 0.6,\n",
       " 0.4,\n",
       " 0.6,\n",
       " 0.6,\n",
       " 0.4,\n",
       " 0.4,\n",
       " 0.8,\n",
       " 0.6,\n",
       " 0.6,\n",
       " 0.6,\n",
       " 0.6,\n",
       " 0.6,\n",
       " 0.8,\n",
       " 0.8,\n",
       " 0.8,\n",
       " 0.4,\n",
       " 0.6,\n",
       " 0.6,\n",
       " 0.6,\n",
       " 1.0,\n",
       " 0.6,\n",
       " 1.0,\n",
       " 0.8,\n",
       " 1.0,\n",
       " 0.4,\n",
       " 1.0,\n",
       " 0.6,\n",
       " 1.0,\n",
       " 0.8,\n",
       " 0.4,\n",
       " 0.6,\n",
       " 0.6,\n",
       " 1.0,\n",
       " 1.0,\n",
       " 0.6,\n",
       " 0.6,\n",
       " 0.6,\n",
       " 0.8,\n",
       " 0.6,\n",
       " 0.8,\n",
       " 0.8,\n",
       " 0.8,\n",
       " 0.6,\n",
       " 1.0,\n",
       " 0.8,\n",
       " 0.8,\n",
       " 0.6,\n",
       " 0.8,\n",
       " 0.6,\n",
       " 0.8,\n",
       " 0.4,\n",
       " 0.4,\n",
       " 0.8,\n",
       " 1.0,\n",
       " 0.6,\n",
       " 0.8,\n",
       " 0.6,\n",
       " 0.6,\n",
       " 0.8,\n",
       " 0.6,\n",
       " 0.8,\n",
       " 0.8,\n",
       " 0.4,\n",
       " 0.8,\n",
       " 0.8,\n",
       " 0.8,\n",
       " 0.8,\n",
       " 1.0,\n",
       " 0.8,\n",
       " 0.4,\n",
       " 0.4,\n",
       " 0.6,\n",
       " 0.4,\n",
       " 1.0,\n",
       " 0.8,\n",
       " 0.4,\n",
       " 0.8,\n",
       " 0.8,\n",
       " 1.0,\n",
       " 0.8,\n",
       " 0.8,\n",
       " 1.0,\n",
       " 0.0,\n",
       " 0.6,\n",
       " 0.6,\n",
       " 0.6,\n",
       " 0.6,\n",
       " 0.8,\n",
       " 0.8,\n",
       " 0.8,\n",
       " 0.6,\n",
       " 0.8,\n",
       " 0.6,\n",
       " 0.6,\n",
       " 0.8,\n",
       " 0.8,\n",
       " 1.0,\n",
       " 0.8,\n",
       " 0.8,\n",
       " 1.0,\n",
       " 1.0,\n",
       " 0.8,\n",
       " 0.6,\n",
       " 0.8,\n",
       " 0.8,\n",
       " 1.0,\n",
       " 0.8,\n",
       " 0.6,\n",
       " 0.6,\n",
       " 0.6,\n",
       " 0.8,\n",
       " 0.8,\n",
       " 1.0,\n",
       " 0.6,\n",
       " 0.6,\n",
       " 0.6,\n",
       " 0.8,\n",
       " 0.6,\n",
       " 1.0,\n",
       " 1.0,\n",
       " 1.0,\n",
       " 1.0,\n",
       " 0.8,\n",
       " 0.8,\n",
       " 0.6,\n",
       " 1.0,\n",
       " 0.8,\n",
       " 1.0,\n",
       " 0.4,\n",
       " 0.6,\n",
       " 0.8,\n",
       " 0.4,\n",
       " 1.0,\n",
       " 0.6,\n",
       " 0.6,\n",
       " 0.4,\n",
       " 0.8,\n",
       " 0.8,\n",
       " 0.8,\n",
       " 0.4,\n",
       " 0.6,\n",
       " 0.4,\n",
       " 0.4,\n",
       " 0.4,\n",
       " 0.4,\n",
       " 0.8,\n",
       " 0.8,\n",
       " 0.8,\n",
       " 0.6,\n",
       " 0.8,\n",
       " 1.0,\n",
       " 0.6,\n",
       " 0.8,\n",
       " 0.8,\n",
       " 1.0,\n",
       " 1.0,\n",
       " 0.6,\n",
       " 0.8,\n",
       " 1.0,\n",
       " 0.6,\n",
       " 0.8,\n",
       " 0.6,\n",
       " 1.0,\n",
       " 0.4,\n",
       " 0.8,\n",
       " 0.6,\n",
       " 0.8,\n",
       " 0.4,\n",
       " 0.8,\n",
       " 0.6,\n",
       " 0.6,\n",
       " 0.6,\n",
       " 0.8,\n",
       " 0.8,\n",
       " 1.0,\n",
       " 1.0,\n",
       " 0.8,\n",
       " 0.2,\n",
       " 0.6,\n",
       " 0.8,\n",
       " 0.6,\n",
       " 0.8,\n",
       " 0.6,\n",
       " 0.2,\n",
       " 0.8,\n",
       " 0.8,\n",
       " 0.6,\n",
       " 0.6,\n",
       " 0.4,\n",
       " 1.0,\n",
       " 0.8,\n",
       " 1.0,\n",
       " 0.8,\n",
       " 0.6,\n",
       " 1.0,\n",
       " 0.8,\n",
       " 0.8,\n",
       " 1.0,\n",
       " 1.0,\n",
       " 0.8,\n",
       " 1.0,\n",
       " 1.0,\n",
       " 0.8,\n",
       " 0.2,\n",
       " 0.6,\n",
       " 0.8,\n",
       " 0.6,\n",
       " 0.6,\n",
       " 0.2,\n",
       " 1.0,\n",
       " 0.4,\n",
       " 0.8,\n",
       " 0.8,\n",
       " 0.8,\n",
       " 0.8,\n",
       " 1.0,\n",
       " 0.4,\n",
       " 0.8,\n",
       " 0.8,\n",
       " 0.8,\n",
       " 0.4,\n",
       " 0.6,\n",
       " 1.0,\n",
       " 0.6,\n",
       " 0.8,\n",
       " 1.0,\n",
       " 0.4,\n",
       " 0.6,\n",
       " 0.6,\n",
       " 0.2,\n",
       " 0.8,\n",
       " 1.0,\n",
       " 0.8,\n",
       " 1.0,\n",
       " 0.8,\n",
       " 0.4,\n",
       " 0.2,\n",
       " 0.8,\n",
       " 0.8,\n",
       " 1.0,\n",
       " 0.2,\n",
       " 0.8,\n",
       " 0.4,\n",
       " 0.8,\n",
       " 1.0,\n",
       " 1.0,\n",
       " 1.0,\n",
       " 0.8,\n",
       " 0.8,\n",
       " 0.8,\n",
       " 0.8,\n",
       " 0.8,\n",
       " 0.8,\n",
       " 0.8,\n",
       " 0.6,\n",
       " 1.0,\n",
       " 0.8,\n",
       " 0.8,\n",
       " 1.0,\n",
       " 0.8,\n",
       " 0.6,\n",
       " 0.8,\n",
       " 0.8,\n",
       " 0.2,\n",
       " 0.8,\n",
       " 0.8,\n",
       " 0.4,\n",
       " 0.6,\n",
       " 0.6,\n",
       " 1.0,\n",
       " 0.4,\n",
       " 0.6,\n",
       " 0.6,\n",
       " 0.6,\n",
       " 0.8,\n",
       " 0.8,\n",
       " 0.6,\n",
       " 0.6,\n",
       " 0.8,\n",
       " 0.8,\n",
       " 0.8,\n",
       " 0.8,\n",
       " 0.6,\n",
       " 0.4,\n",
       " 1.0,\n",
       " 0.6,\n",
       " 1.0,\n",
       " 0.8,\n",
       " 1.0,\n",
       " 0.6,\n",
       " 0.6,\n",
       " 0.8,\n",
       " 0.4,\n",
       " 0.8,\n",
       " 0.8,\n",
       " 0.8,\n",
       " 1.0,\n",
       " 1.0,\n",
       " 0.6,\n",
       " 0.6,\n",
       " 1.0,\n",
       " 0.8,\n",
       " 0.8,\n",
       " 0.6,\n",
       " 0.6,\n",
       " 0.8,\n",
       " 0.4,\n",
       " 0.8,\n",
       " 1.0,\n",
       " 0.6,\n",
       " 0.8,\n",
       " 0.8,\n",
       " 0.8,\n",
       " 0.4,\n",
       " 0.6,\n",
       " 0.8,\n",
       " 0.6,\n",
       " 0.6,\n",
       " 0.8,\n",
       " 0.6,\n",
       " 0.8,\n",
       " 0.4,\n",
       " 1.0,\n",
       " 0.6,\n",
       " 0.8,\n",
       " 0.6,\n",
       " 0.6,\n",
       " 0.6,\n",
       " 0.6,\n",
       " 0.8,\n",
       " 1.0,\n",
       " 0.8,\n",
       " 0.8,\n",
       " 0.8,\n",
       " 0.4,\n",
       " 0.6,\n",
       " 0.8,\n",
       " 1.0,\n",
       " 0.6,\n",
       " 0.6,\n",
       " 0.4,\n",
       " 0.4,\n",
       " 0.6,\n",
       " 0.8,\n",
       " 1.0,\n",
       " 1.0,\n",
       " 0.8,\n",
       " 0.2,\n",
       " 1.0,\n",
       " 0.8,\n",
       " 0.8,\n",
       " 1.0,\n",
       " 0.4,\n",
       " 0.6,\n",
       " 1.0,\n",
       " 0.8,\n",
       " 1.0,\n",
       " 0.8,\n",
       " 0.8,\n",
       " 1.0,\n",
       " 1.0,\n",
       " 0.6,\n",
       " 0.6,\n",
       " 0.8,\n",
       " 0.8,\n",
       " 0.8,\n",
       " 1.0,\n",
       " 0.8,\n",
       " 0.4,\n",
       " 0.6,\n",
       " 1.0,\n",
       " 1.0,\n",
       " 0.8,\n",
       " 1.0,\n",
       " 0.6,\n",
       " 0.6,\n",
       " 0.6,\n",
       " 1.0,\n",
       " 0.8,\n",
       " 0.6,\n",
       " 0.6,\n",
       " 0.6,\n",
       " 0.6,\n",
       " 0.8,\n",
       " 0.6,\n",
       " 0.8,\n",
       " 0.6,\n",
       " 0.6,\n",
       " 0.4,\n",
       " 1.0,\n",
       " 0.8,\n",
       " 0.6,\n",
       " 0.8,\n",
       " 0.2,\n",
       " 0.8,\n",
       " 0.8,\n",
       " 0.4,\n",
       " 0.8,\n",
       " 0.8,\n",
       " 0.8,\n",
       " 0.6,\n",
       " 1.0,\n",
       " 0.6,\n",
       " 0.8,\n",
       " 0.8,\n",
       " 0.6,\n",
       " 0.8,\n",
       " 0.4,\n",
       " 0.8,\n",
       " 1.0,\n",
       " 1.0,\n",
       " 0.8,\n",
       " 0.4,\n",
       " 0.8,\n",
       " 0.8,\n",
       " 0.6,\n",
       " 0.8,\n",
       " 0.6,\n",
       " 0.6,\n",
       " 1.0,\n",
       " 0.6,\n",
       " 0.6,\n",
       " 0.6,\n",
       " 0.8,\n",
       " 0.4,\n",
       " 1.0,\n",
       " 0.6,\n",
       " 0.6,\n",
       " 0.6,\n",
       " 0.8,\n",
       " 1.0,\n",
       " 0.8,\n",
       " 1.0,\n",
       " 0.6,\n",
       " 0.6,\n",
       " 0.8,\n",
       " 1.0,\n",
       " 0.4,\n",
       " 0.6,\n",
       " 1.0,\n",
       " 0.6,\n",
       " 0.8,\n",
       " 0.8,\n",
       " 0.6,\n",
       " 1.0,\n",
       " 0.8,\n",
       " 1.0,\n",
       " 0.8,\n",
       " 0.4,\n",
       " 0.8,\n",
       " 0.8,\n",
       " 0.6,\n",
       " 0.8,\n",
       " 0.2,\n",
       " 0.6,\n",
       " 0.8,\n",
       " 0.4,\n",
       " 1.0,\n",
       " 0.8,\n",
       " 1.0,\n",
       " 1.0,\n",
       " 0.8,\n",
       " 0.8,\n",
       " 0.8,\n",
       " 1.0,\n",
       " 0.8,\n",
       " 1.0,\n",
       " 1.0,\n",
       " 0.8,\n",
       " 0.8,\n",
       " 1.0,\n",
       " 1.0,\n",
       " 0.8,\n",
       " 0.6,\n",
       " 0.4,\n",
       " ...]"
      ]
     },
     "execution_count": 8,
     "metadata": {},
     "output_type": "execute_result"
    }
   ],
   "source": [
    "# 3. Repeat the above to obtain 10,000 additional proportions, where each sample was of size 5. \n",
    "# Store these in a variable called sample_props.\n",
    "sample_props=[]\n",
    "for _ in range(10000):\n",
    "    samples=np.random.choice(students, 5)\n",
    "    sample_props.append(samples.mean())\n",
    "    \n",
    "sample_props"
   ]
  },
  {
   "cell_type": "code",
   "execution_count": 9,
   "id": "09a71433",
   "metadata": {},
   "outputs": [
    {
     "data": {
      "text/plain": [
       "0.71404"
      ]
     },
     "execution_count": 9,
     "metadata": {},
     "output_type": "execute_result"
    }
   ],
   "source": [
    "#  4. What is the mean proportion of all 10,000 of these proportions? This is often called the mean of the sampling distribution.\n",
    "sample_props = np.array(sample_props)\n",
    "sample_props.mean()"
   ]
  },
  {
   "cell_type": "code",
   "execution_count": 11,
   "id": "a62b5efb",
   "metadata": {},
   "outputs": [
    {
     "name": "stdout",
     "output_type": "stream",
     "text": [
      "Original variance: 0.20408163265306126\n",
      "Original SD: 0.45175395145262565\n"
     ]
    }
   ],
   "source": [
    "# 5. What are the variance and standard deviation for the original 21 data values?\n",
    "var1 = np.var(students)\n",
    "std1 = np.std(students)\n",
    "print(\"Original variance:\",var1)\n",
    "print(\"Original SD:\",std1)"
   ]
  },
  {
   "cell_type": "code",
   "execution_count": 12,
   "id": "ef761ff9",
   "metadata": {},
   "outputs": [
    {
     "name": "stdout",
     "output_type": "stream",
     "text": [
      "Sample variance: 0.0417708784\n",
      "Sample SD: 0.2043792513930903\n"
     ]
    }
   ],
   "source": [
    "# 6. What are the variance and standard deviation for the 10,000 proportions you created?\n",
    "var = np.var(sample_props)\n",
    "std = np.std(sample_props)\n",
    "print(\"Sample variance:\",var)\n",
    "print(\"Sample SD:\",std)"
   ]
  },
  {
   "cell_type": "code",
   "execution_count": 13,
   "id": "3045e586",
   "metadata": {},
   "outputs": [
    {
     "data": {
      "text/plain": [
       "0.20408163265306123"
      ]
     },
     "execution_count": 13,
     "metadata": {},
     "output_type": "execute_result"
    }
   ],
   "source": [
    "# 7.Compute p(1-p), which of your answers does this most closely match?\n",
    "p*(1-p)"
   ]
  },
  {
   "cell_type": "markdown",
   "id": "fcf9a78f",
   "metadata": {},
   "source": [
    "It matches with original variance"
   ]
  },
  {
   "cell_type": "code",
   "execution_count": 14,
   "id": "c7aa9a18",
   "metadata": {},
   "outputs": [
    {
     "data": {
      "text/plain": [
       "0.04081632653061225"
      ]
     },
     "execution_count": 14,
     "metadata": {},
     "output_type": "execute_result"
    }
   ],
   "source": [
    "# 8. Compute p(1-p)/n, which of your answers does this most closely match?\n",
    "n=5\n",
    "p*(1-p)/n"
   ]
  },
  {
   "cell_type": "code",
   "execution_count": 20,
   "id": "f0c74d4f",
   "metadata": {},
   "outputs": [
    {
     "name": "stdout",
     "output_type": "stream",
     "text": [
      "simulated variance with 5 samples: 0.0417708784\n",
      "theoretical variance with 5 samples: 0.04081632653061225\n"
     ]
    }
   ],
   "source": [
    "print(\"simulated variance with 5 samples:\", var)\n",
    "print(\"theoretical variance with 5 samples:\", p*(1-p)/5)"
   ]
  },
  {
   "cell_type": "code",
   "execution_count": 15,
   "id": "f6bc432c",
   "metadata": {},
   "outputs": [],
   "source": [
    "# 9. Notice that your answer to 8. is commonly called the variance of the sampling distribution. If you were to change your \n",
    "# first sample to be 20, what would this do for the variance of the sampling distribution? Simulate and calculate the new \n",
    "# answers in 6. and 8. to check that the consistency you found before still holds.\n",
    "\n",
    "##Simulate your 20 draws\n",
    "\n",
    "sample_props20 = []\n",
    "for _ in range(10000):\n",
    "    samples = np.random.choice(students, 20)\n",
    "    sample_props20.append(samples.mean())\n"
   ]
  },
  {
   "cell_type": "code",
   "execution_count": 18,
   "id": "07e3232d",
   "metadata": {},
   "outputs": [
    {
     "name": "stdout",
     "output_type": "stream",
     "text": [
      "Sample variance 20: 0.0103038936\n",
      "Sample SD 20: 0.10150809622882305\n"
     ]
    }
   ],
   "source": [
    "# What are the variance and standard deviation for the 10,000 proportions you created?\n",
    "var20 = np.var(sample_props20)\n",
    "std20 = np.std(sample_props20)\n",
    "print(\"Sample variance 20:\",var20)\n",
    "print(\"Sample SD 20:\",std20)"
   ]
  },
  {
   "cell_type": "code",
   "execution_count": 19,
   "id": "c17e54f8",
   "metadata": {},
   "outputs": [
    {
     "data": {
      "text/plain": [
       "0.010204081632653062"
      ]
     },
     "execution_count": 19,
     "metadata": {},
     "output_type": "execute_result"
    }
   ],
   "source": [
    "# Compute p(1-p)/n, which of your answers does this most closely match?\n",
    "n=20\n",
    "p*(1-p)/n"
   ]
  },
  {
   "cell_type": "code",
   "execution_count": 21,
   "id": "422be1c6",
   "metadata": {},
   "outputs": [
    {
     "name": "stdout",
     "output_type": "stream",
     "text": [
      "simulated variance with 20 samples: 0.0103038936\n",
      "theoretical variance with 20 samples: 0.010204081632653062\n"
     ]
    }
   ],
   "source": [
    "print(\"simulated variance with 20 samples:\", var20)\n",
    "print(\"theoretical variance with 20 samples:\", p*(1-p)/20)"
   ]
  },
  {
   "cell_type": "code",
   "execution_count": 26,
   "id": "47360638",
   "metadata": {},
   "outputs": [],
   "source": [
    "import matplotlib.pyplot as plt\n",
    "%matplotlib inline"
   ]
  },
  {
   "cell_type": "code",
   "execution_count": 29,
   "id": "a26771b3",
   "metadata": {},
   "outputs": [
    {
     "data": {
      "image/png": "[encoded data removed]",
      "text/plain": [
       "<Figure size 432x288 with 1 Axes>"
      ]
     },
     "metadata": {
      "needs_background": "light"
     },
     "output_type": "display_data"
    }
   ],
   "source": [
    "plt.hist(sample_props);"
   ]
  },
  {
   "cell_type": "code",
   "execution_count": 31,
   "id": "ac3b7513",
   "metadata": {},
   "outputs": [
    {
     "data": {
      "image/png": "[encoded data removed]",
      "text/plain": [
       "<Figure size 432x288 with 1 Axes>"
      ]
     },
     "metadata": {
      "needs_background": "light"
     },
     "output_type": "display_data"
    }
   ],
   "source": [
    "plt.hist(np.array(sample_props20));"
   ]
  },
  {
   "cell_type": "code",
   "execution_count": 1,
   "id": "14f645dc",
   "metadata": {},
   "outputs": [],
   "source": [
    "import pandas as pd\n",
    "import numpy as np\n",
    "np.random.seed(42)\n",
    "coffee_full = pd.read_csv('coffee_dataset.csv')\n",
    "coffee_red = coffee_full.sample(200)"
   ]
  },
  {
   "cell_type": "code",
   "execution_count": 2,
   "id": "1172a700",
   "metadata": {},
   "outputs": [
    {
     "data": {
      "text/html": [
       "<div>\n",
       "<style scoped>\n",
       "    .dataframe tbody tr th:only-of-type {\n",
       "        vertical-align: middle;\n",
       "    }\n",
       "\n",
       "    .dataframe tbody tr th {\n",
       "        vertical-align: top;\n",
       "    }\n",
       "\n",
       "    .dataframe thead th {\n",
       "        text-align: right;\n",
       "    }\n",
       "</style>\n",
       "<table border=\"1\" class=\"dataframe\">\n",
       "  <thead>\n",
       "    <tr style=\"text-align: right;\">\n",
       "      <th></th>\n",
       "      <th>user_id</th>\n",
       "      <th>age</th>\n",
       "      <th>drinks_coffee</th>\n",
       "      <th>height</th>\n",
       "    </tr>\n",
       "  </thead>\n",
       "  <tbody>\n",
       "    <tr>\n",
       "      <th>2402</th>\n",
       "      <td>2874</td>\n",
       "      <td>&lt;21</td>\n",
       "      <td>True</td>\n",
       "      <td>64.357154</td>\n",
       "    </tr>\n",
       "    <tr>\n",
       "      <th>2864</th>\n",
       "      <td>3670</td>\n",
       "      <td>&gt;=21</td>\n",
       "      <td>True</td>\n",
       "      <td>66.859636</td>\n",
       "    </tr>\n",
       "    <tr>\n",
       "      <th>2167</th>\n",
       "      <td>7441</td>\n",
       "      <td>&lt;21</td>\n",
       "      <td>False</td>\n",
       "      <td>66.659561</td>\n",
       "    </tr>\n",
       "    <tr>\n",
       "      <th>507</th>\n",
       "      <td>2781</td>\n",
       "      <td>&gt;=21</td>\n",
       "      <td>True</td>\n",
       "      <td>70.166241</td>\n",
       "    </tr>\n",
       "    <tr>\n",
       "      <th>1817</th>\n",
       "      <td>2875</td>\n",
       "      <td>&gt;=21</td>\n",
       "      <td>True</td>\n",
       "      <td>71.369120</td>\n",
       "    </tr>\n",
       "  </tbody>\n",
       "</table>\n",
       "</div>"
      ],
      "text/plain": [
       "      user_id   age  drinks_coffee     height\n",
       "2402     2874   <21           True  64.357154\n",
       "2864     3670  >=21           True  66.859636\n",
       "2167     7441   <21          False  66.659561\n",
       "507      2781  >=21           True  70.166241\n",
       "1817     2875  >=21           True  71.369120"
      ]
     },
     "execution_count": 2,
     "metadata": {},
     "output_type": "execute_result"
    }
   ],
   "source": [
    "coffee_red.head()"
   ]
  },
  {
   "cell_type": "code",
   "execution_count": 3,
   "id": "e1f03b4b",
   "metadata": {},
   "outputs": [
    {
     "data": {
      "text/plain": [
       "0.595"
      ]
     },
     "execution_count": 3,
     "metadata": {},
     "output_type": "execute_result"
    }
   ],
   "source": [
    "coffee_red.drinks_coffee.mean()"
   ]
  },
  {
   "cell_type": "code",
   "execution_count": null,
   "id": "53ca14fb",
   "metadata": {},
   "outputs": [],
   "source": []
  }
 ],
 "metadata": {
  "kernelspec": {
   "display_name": "Python 3 (ipykernel)",
   "language": "python",
   "name": "python3"
  },
  "language_info": {
   "codemirror_mode": {
    "name": "ipython",
    "version": 3
   },
   "file_extension": ".py",
   "mimetype": "text/x-python",
   "name": "python",
   "nbconvert_exporter": "python",
   "pygments_lexer": "ipython3",
   "version": "3.8.11"
  }
 },
 "nbformat": 4,
 "nbformat_minor": 5
}
