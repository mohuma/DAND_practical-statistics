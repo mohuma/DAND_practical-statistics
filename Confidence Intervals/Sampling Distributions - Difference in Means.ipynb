{
 "cells": [
  {
   "cell_type": "markdown",
   "metadata": {},
   "source": [
    "### Confidence Interval - Difference In Means\n",
    "\n",
    "Here you will look through the example from the last video, but you will also go a couple of steps further into what might actually be going on with this data."
   ]
  },
  {
   "cell_type": "code",
   "execution_count": 1,
   "metadata": {},
   "outputs": [],
   "source": [
    "import pandas as pd\n",
    "import numpy as np\n",
    "import matplotlib.pyplot as plt\n",
    "\n",
    "%matplotlib inline\n",
    "np.random.seed(42)\n",
    "\n",
    "full_data = pd.read_csv('coffee_dataset.csv')\n",
    "sample_data = full_data.sample(200)"
   ]
  },
  {
   "cell_type": "markdown",
   "metadata": {},
   "source": [
    "`1.` For 10,000 iterations, bootstrap sample your sample data, compute the difference in the average heights for coffee and non-coffee drinkers.  Build a 99% confidence interval using your sampling distribution.  Use your interval to start answering the first quiz question below."
   ]
  },
  {
   "cell_type": "code",
   "execution_count": 2,
   "metadata": {},
   "outputs": [
    {
     "data": {
      "text/plain": [
       "(0.10258900080919674, 2.5388333707966284)"
      ]
     },
     "execution_count": 2,
     "metadata": {},
     "output_type": "execute_result"
    }
   ],
   "source": [
    "diff_ht = []\n",
    "for _ in range(10000):\n",
    "    bootsample=sample_data.sample(200, replace=True)\n",
    "    mean_ht_coff=bootsample[bootsample['drinks_coffee']==True]['height'].mean()\n",
    "    mean_ht_nocoff=bootsample[bootsample['drinks_coffee']==False]['height'].mean()\n",
    "    diff_ht.append(mean_ht_coff-mean_ht_nocoff)\n",
    "np.percentile(diff_ht, 0.5), np.percentile(diff_ht, 99.5)"
   ]
  },
  {
   "cell_type": "markdown",
   "metadata": {},
   "source": [
    "`2.` For 10,000 iterations, bootstrap sample your sample data, compute the difference in the average heights for those older than 21 and those younger than 21.  Build a 99% confidence interval using your sampling distribution.  Use your interval to finish answering the first quiz question below.  "
   ]
  },
  {
   "cell_type": "code",
   "execution_count": 3,
   "metadata": {},
   "outputs": [
    {
     "data": {
      "text/plain": [
       "(3.3652749452554089, 2.5388333707966284)"
      ]
     },
     "execution_count": 3,
     "metadata": {},
     "output_type": "execute_result"
    }
   ],
   "source": [
    "diff_ht_age = []\n",
    "for _ in range(10000):\n",
    "    bootsample=sample_data.sample(200, replace=True)\n",
    "    mean_ht_o21=bootsample[bootsample['age']=='>=21']['height'].mean()\n",
    "    mean_ht_y21=bootsample[bootsample['age']=='<21']['height'].mean()\n",
    "    diff_ht_age.append(mean_ht_o21-mean_ht_y21)\n",
    "np.percentile(diff_ht_age, 0.5), np.percentile(diff_ht, 99.5)"
   ]
  },
  {
   "cell_type": "markdown",
   "metadata": {},
   "source": [
    "`3.` For 10,000 iterations bootstrap your sample data, compute the **difference** in the average height for coffee drinkers and the average height for non-coffee drinkers for individuals **under** 21 years old.  Using your sampling distribution, build a 95% confidence interval.  Use your interval to start answering question 2 below."
   ]
  },
  {
   "cell_type": "code",
   "execution_count": 8,
   "metadata": {},
   "outputs": [
    {
     "data": {
      "text/plain": [
       "(-2.6104831869381879, -1.0709727887518468)"
      ]
     },
     "execution_count": 8,
     "metadata": {},
     "output_type": "execute_result"
    }
   ],
   "source": [
    "diff_ht_y21 = []\n",
    "for _ in range(10000):\n",
    "    bootsample=sample_data.sample(200, replace=True)\n",
    "    mean_ht_coff_y21=bootsample.query('drinks_coffee == True and age == \"<21\"')['height'].mean()\n",
    "    mean_ht_nocoff_y21=bootsample.query('drinks_coffee == False and age == \"<21\"')['height'].mean()\n",
    "    diff_ht_y21.append(mean_ht_coff_y21-mean_ht_nocoff_y21)\n",
    "np.percentile(diff_ht_y21, 2.5), np.percentile(diff_ht_y21, 97.5)"
   ]
  },
  {
   "cell_type": "markdown",
   "metadata": {},
   "source": [
    "`4.` For 10,000 iterations bootstrap your sample data, compute the **difference** in the average height for coffee drinkers and the average height for non-coffee drinkers for individuals **over** 21 years old.  Using your sampling distribution, build a 95% confidence interval. Use your interval to finish answering the second quiz question below. As well as the following questions. "
   ]
  },
  {
   "cell_type": "code",
   "execution_count": 9,
   "metadata": {},
   "outputs": [
    {
     "data": {
      "text/plain": [
       "(-4.3805814257381659, -1.8112701857664479)"
      ]
     },
     "execution_count": 9,
     "metadata": {},
     "output_type": "execute_result"
    }
   ],
   "source": [
    "diff_ht_o21 = []\n",
    "for _ in range(10000):\n",
    "    bootsample=sample_data.sample(200, replace=True)\n",
    "    mean_ht_coff_o21=bootsample.query('drinks_coffee == True and age != \"<21\"')['height'].mean()\n",
    "    mean_ht_nocoff_o21=bootsample.query('drinks_coffee == False and age != \"<21\"')['height'].mean()\n",
    "    diff_ht_o21.append(mean_ht_coff_o21-mean_ht_nocoff_o21)\n",
    "np.percentile(diff_ht_o21, 2.5), np.percentile(diff_ht_o21, 97.5)"
   ]
  },
  {
   "cell_type": "code",
   "execution_count": null,
   "metadata": {},
   "outputs": [],
   "source": []
  }
 ],
 "metadata": {
  "kernelspec": {
   "display_name": "Python 3",
   "language": "python",
   "name": "python3"
  },
  "language_info": {
   "codemirror_mode": {
    "name": "ipython",
    "version": 3
   },
   "file_extension": ".py",
   "mimetype": "text/x-python",
   "name": "python",
   "nbconvert_exporter": "python",
   "pygments_lexer": "ipython3",
   "version": "3.6.3"
  }
 },
 "nbformat": 4,
 "nbformat_minor": 2
}
